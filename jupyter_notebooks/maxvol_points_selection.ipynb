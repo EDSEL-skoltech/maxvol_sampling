{
 "cells": [
  {
   "cell_type": "markdown",
   "metadata": {},
   "source": [
    "### Select points"
   ]
  },
  {
   "cell_type": "code",
   "execution_count": 4,
   "metadata": {},
   "outputs": [],
   "source": [
    "import numpy as np\n",
    "import matplotlib.pyplot as plt\n",
    "import osgeo.gdal as gdal\n",
    "import os\n",
    "from maxvol_cut import rect_maxvol_cut, f_no_cut, f_penal_2D\n",
    "from tools import norm_data, add_coords, gen_input, extend_score, points_selection, f_no_cut, f_cut_eps, calc_score, good_points_brute_force, idx_to_idx\n",
    "\n",
    "%matplotlib inline\n",
    "\n",
    "# Set BIG figure\n",
    "plt.rcParams[\"figure.figsize\"] = (12, 8)"
   ]
  },
  {
   "cell_type": "code",
   "execution_count": 5,
   "metadata": {},
   "outputs": [],
   "source": [
    "dr = '../local_tifs'  \n",
    "NUMBER_OF_POINTS=16"
   ]
  },
  {
   "cell_type": "code",
   "execution_count": 62,
   "metadata": {},
   "outputs": [],
   "source": [
    "fl_names = list(filter(lambda fl: fl.endswith('.tif'), os.listdir(dr)))\n",
    "files = list(map(lambda x: gdal.Open(os.path.join(dr, x)), fl_names[::-1]))\n",
    "arrays = list(map(lambda x: x.ReadAsArray().flatten(), files))\n",
    "shapes = [x.ReadAsArray().shape for x in files]\n",
    "nodatas = list(map(lambda x: x.GetRasterBand(1).GetNoDataValue(), files))\n",
    "names = list(map(lambda x: x.replace('.tif','').split('.')[0], fl_names))"
   ]
  },
  {
   "cell_type": "code",
   "execution_count": 63,
   "metadata": {},
   "outputs": [],
   "source": [
    "dem_raw = gdal.Open('../10_3857.tif')\n",
    "dem = dem_raw.ReadAsArray()\n",
    "dem_flat = dem.flatten()\n",
    "dem_nodata = dem_raw.GetRasterBand(1).GetNoDataValue()\n",
    "init_dem_shape = dem.shape"
   ]
  },
  {
   "cell_type": "code",
   "execution_count": 65,
   "metadata": {},
   "outputs": [],
   "source": [
    "#delete nodata\n",
    "idx_nodata_0 = np.where(arrays[0] == nodatas[0])[0]\n",
    "arrays_no_nodatas = np.zeros((len(arrays[0])-len(idx_nodata_0), len(arrays)))\n",
    "\n",
    "idx_dem_nodata = np.where(dem_flat == dem_nodata)[0]\n",
    "idx_dem = np.where(arrays[0] != nodatas[0])[0]\n",
    "dem_no_nodata = np.delete(dem_flat, idx_nodata_0)\n",
    "\n",
    "for i in range(len(arrays)):\n",
    "    idx_nodata = np.where(arrays[i] == nodatas[i])[0]\n",
    "    array = arrays[i].copy()\n",
    "    array[idx_nodata]=0\n",
    "    arrays_no_nodatas[:,i]  = np.delete(array, idx_nodata_0)"
   ]
  },
  {
   "cell_type": "code",
   "execution_count": 12,
   "metadata": {},
   "outputs": [],
   "source": [
    "data_arr = arrays_no_nodatas.copy()"
   ]
  },
  {
   "cell_type": "code",
   "execution_count": 13,
   "metadata": {},
   "outputs": [],
   "source": [
    "# Prepare data\n",
    "# U can normilize data, and/or add coords to it\n",
    "\n",
    "mode = 1 # Change to 0, 1, 2 or 3\n",
    "X, fn_X_embedded = gen_input(mode, data_arr, shapes, idx_dem)"
   ]
  },
  {
   "cell_type": "code",
   "execution_count": 14,
   "metadata": {},
   "outputs": [
    {
     "data": {
      "text/plain": [
       "(246909, 4)"
      ]
     },
     "execution_count": 14,
     "metadata": {},
     "output_type": "execute_result"
    }
   ],
   "source": [
    "X.shape"
   ]
  },
  {
   "cell_type": "code",
   "execution_count": 8,
   "metadata": {},
   "outputs": [],
   "source": [
    "#function for distance between points\n",
    "f_cut = lambda idx, i : f_cut_eps(idx, i, X=X, eps=0.3)\n",
    "\n",
    "#function for distence from border\n",
    "f_penal = f_penal_2D(X = X[:, -2], Y = X[:, -1], bnd = 0.3, level = 0.3)"
   ]
  },
  {
   "cell_type": "code",
   "execution_count": 9,
   "metadata": {},
   "outputs": [],
   "source": [
    "#result of selection\n",
    "#if result print \"Failed\", the number of chosing points will be smaller than NUMBER_OF_POINTS\n",
    "#to fix it, reduce eps in f_cut and bnd, level in f_penal\n",
    "\n",
    "result = points_selection(X, n_pnts = NUMBER_OF_POINTS, cut_fun = f_cut, penalty = None) "
   ]
  },
  {
   "cell_type": "markdown",
   "metadata": {},
   "source": [
    "### Export coordinates"
   ]
  },
  {
   "cell_type": "markdown",
   "metadata": {},
   "source": [
    "To export coordinates, you should know border values of your DEM (xmin, ymin, xmax, ymax).\n",
    "\n",
    "They could be copied from QGIS, features of layer"
   ]
  },
  {
   "cell_type": "code",
   "execution_count": 10,
   "metadata": {},
   "outputs": [],
   "source": [
    "xmin, ymin, xmax, ymax = [37.7928399298814384,51.9023655604198453,37.8064010466814366,51.9077426838598441]\n",
    "\n",
    "dem_flat_img = dem_flat.copy()-np.min(dem_flat)\n",
    "dem_flat_img[np.where(dem_flat == dem_nodata)] = float('NaN')\n",
    "st = dem_flat_img.reshape(init_dem_shape)\n",
    "\n",
    "xv = np.linspace(xmin,xmax, num=st.shape[1])\n",
    "yv = np.linspace(ymax,ymin, num=st.shape[0])\n",
    "coords = np.meshgrid(xv,yv)\n",
    "\n",
    "mask = idx_dem\n",
    "\n",
    "\n",
    "#select corresponding points by indecies\n",
    "y_c,x_c = coords[0].flatten()[mask, None],coords[1].flatten()[mask, None]\n",
    "y_idx, x_idx = y_c[result],x_c[result]\n",
    "coord_idx = np.hstack((y_idx,x_idx))\n",
    "\n",
    "np.savetxt('maxvol_result_'+str(NUMBER_OF_POINTS)+'.csv', coord_idx, delimiter=';')"
   ]
  }
 ],
 "metadata": {
  "kernelspec": {
   "display_name": "Python 3",
   "language": "python",
   "name": "python3"
  },
  "language_info": {
   "codemirror_mode": {
    "name": "ipython",
    "version": 3
   },
   "file_extension": ".py",
   "mimetype": "text/x-python",
   "name": "python",
   "nbconvert_exporter": "python",
   "pygments_lexer": "ipython3",
   "version": "3.6.11"
  }
 },
 "nbformat": 4,
 "nbformat_minor": 2
}

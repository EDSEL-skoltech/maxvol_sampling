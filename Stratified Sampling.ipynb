{
 "cells": [
  {
   "cell_type": "markdown",
   "id": "a84f478f",
   "metadata": {},
   "source": [
    "## R Stratified Sampling"
   ]
  },
  {
   "cell_type": "code",
   "execution_count": 2,
   "id": "989fc393",
   "metadata": {},
   "outputs": [],
   "source": [
    "\n",
    "from rpy2.robjects.packages import importr\n",
    "from rpy2.robjects import pandas2ri\n",
    "pandas2ri.activate()"
   ]
  },
  {
   "cell_type": "code",
   "execution_count": 4,
   "id": "34b62cfe",
   "metadata": {},
   "outputs": [],
   "source": [
    "rpmodel = importr('rpmodel')\n",
    "r_raster = importr('raster')"
   ]
  },
  {
   "cell_type": "code",
   "execution_count": null,
   "id": "9c8a22fd",
   "metadata": {},
   "outputs": [],
   "source": [
    "#install.packages(\"raster\")\n",
    "library(raster)\n",
    "\n",
    "\n",
    "#setwd(\"../../source_data_2022/dem.tif\")\n",
    "# img.dem <- raster(\"../../source_data_2022/dem.tif\")\n",
    "\n",
    "plot(img.dem)\n",
    "\n",
    "\n",
    "\n",
    "smp.test <- sampleStratified(x = img.dem,\n",
    "                             size = 3,\n",
    "                             na.rm = TRUE,\n",
    "                             sp = TRUE,\n",
    "                             xy = TRUE)\n",
    "\n"
   ]
  }
 ],
 "metadata": {
  "kernelspec": {
   "display_name": "Python 3 (ipykernel)",
   "language": "python",
   "name": "python3"
  },
  "language_info": {
   "codemirror_mode": {
    "name": "ipython",
    "version": 3
   },
   "file_extension": ".py",
   "mimetype": "text/x-python",
   "name": "python",
   "nbconvert_exporter": "python",
   "pygments_lexer": "ipython3",
   "version": "3.8.10"
  }
 },
 "nbformat": 4,
 "nbformat_minor": 5
}

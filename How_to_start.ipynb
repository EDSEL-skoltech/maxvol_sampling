{
 "cells": [
  {
   "cell_type": "markdown",
   "metadata": {},
   "source": [
    "# How to start with MaxVol soil sampling"
   ]
  },
  {
   "cell_type": "code",
   "execution_count": null,
   "metadata": {},
   "outputs": [],
   "source": [
    "# Uncomment for Google colab\n",
    "# !pip install maxvolpy\n",
    "\n",
    "# !pip install clhs\n",
    "\n",
    "# !git clone https://github.com/EDSEL-skoltech/maxvol_sampling\n",
    "\n",
    "# %cd maxvol_sampling/"
   ]
  },
  {
   "cell_type": "code",
   "execution_count": 4,
   "metadata": {},
   "outputs": [],
   "source": [
    "import numpy as np\n",
    "import argparse\n",
    "# import osgeo.gdal as gdal\n",
    "import matplotlib.cm as cm\n",
    "import matplotlib.pyplot as plt\n",
    "from scipy.spatial import ConvexHull, convex_hull_plot_2d, voronoi_plot_2d, Voronoi\n",
    "from numpy import genfromtxt\n",
    "import pandas as pd\n",
    "import gdal\n",
    "import os\n",
    "import xarray as xr\n",
    "import clhs as cl\n",
    "import csv\n"
   ]
  },
  {
   "cell_type": "code",
   "execution_count": 5,
   "metadata": {},
   "outputs": [],
   "source": [
    "from src.util import MaxVolSampling"
   ]
  },
  {
   "cell_type": "code",
   "execution_count": 6,
   "metadata": {},
   "outputs": [],
   "source": [
    "SAR = MaxVolSampling()\n",
    "SAR.num_of_points = 15\n",
    "SAR.soil_data = pd.read_csv('./src/data_v0.csv',  sep=',')\n",
    "SAR.path_to_file_with_indices = None\n",
    "SAR.wd = './DEM_files/'\n",
    "\n",
    "X, dem_flat, dem_nodata, init_dem_shape, idx_dem, boundary_box = SAR.data_preparation(SAR.wd, data_m=3, dem_dir = None)\n",
    "\n",
    "MaxVol = SAR.i_am_maxvol_function()\n",
    "\n",
    "cLHS = SAR.i_am_clhs(num_iter=10000)\n",
    "\n"
   ]
  },
  {
   "cell_type": "markdown",
   "metadata": {},
   "source": [
    "## Add plotting here"
   ]
  },
  {
   "cell_type": "code",
   "execution_count": null,
   "metadata": {},
   "outputs": [],
   "source": []
  }
 ],
 "metadata": {
  "kernelspec": {
   "display_name": "Python 3",
   "language": "python",
   "name": "python3"
  },
  "language_info": {
   "codemirror_mode": {
    "name": "ipython",
    "version": 3
   },
   "file_extension": ".py",
   "mimetype": "text/x-python",
   "name": "python",
   "nbconvert_exporter": "python",
   "pygments_lexer": "ipython3",
   "version": "3.6.11"
  }
 },
 "nbformat": 4,
 "nbformat_minor": 4
}
